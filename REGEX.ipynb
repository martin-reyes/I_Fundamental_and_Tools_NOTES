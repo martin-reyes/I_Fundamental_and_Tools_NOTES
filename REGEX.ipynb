{
 "cells": [
  {
   "cell_type": "markdown",
   "id": "7b7fa8a2",
   "metadata": {},
   "source": [
    "# RegEx\n",
    "\n",
    "[Data](https://alamo0-my.sharepoint.com/personal/weastridge_alamo_edu/_layouts/15/onedrive.aspx?id=%2Fpersonal%2Fweastridge%5Falamo%5Fedu%2FDocuments%2FDownloads%2FClass%20Data&ga=1)\n",
    "\n",
    "[Labs](https://alamo0-my.sharepoint.com/personal/weastridge_alamo_edu/_layouts/15/onedrive.aspx?id=%2Fpersonal%2Fweastridge%5Falamo%5Fedu%2FDocuments%2FDownloads%2FLastLab&ga=1)\n",
    "\n",
    "[billsexcellentprogramming.site](https://billsexcellentprogramming.site)\n",
    "\n",
    "bill@billsexcellentprogramming.site\n",
    "\n",
    "- We will use `findall`, `finditer`, `match`, `search`, and `match`. We wont look into `sub`, `split`, and `compile`\n",
    "\n",
    "\n",
    "- `re.findall(pattern, string, flags)`\n",
    "- `re.finditer(pattern, string, flags)`\n",
    "- `re.search(pattern, string, flags)`\n",
    "- `re.match(pattern, string, flags)`\n",
    "\n",
    "\n",
    "- `.\"+?^${}[]\\|`()\n",
    "\n",
    "- use raw strings for regex patterns\n",
    "- re.IGNORECASE, re.MULTILINE, re.DOTALL, re.VERBOSE, re.ASCII\n",
    "    - serparate with `|`\n",
    "    \n",
    "- `{}` braces indicate number of braces expected. eg. `[0-9]{3}` or `[a-z]{3, 6}`\n",
    "- with `|`, typically try to find the more complex pattern first\n",
    "\n",
    "- combined operations\n",
    "\n",
    "\n",
    "Look up:\n",
    "    - what are raw strings\n",
    "    \n",
    "Special Sequences:\n",
    "    - `\\d`, '\\D', `\\w` ([a-zA-Z0-9_]), `\\W`, `\\s`, `\\S`\n",
    "        - Decimal digits, Word charaters, whiteSpace/non-ASCII"
   ]
  },
  {
   "cell_type": "code",
   "execution_count": null,
   "id": "e26f2b3d",
   "metadata": {},
   "outputs": [],
   "source": [
    "import re"
   ]
  },
  {
   "cell_type": "markdown",
   "id": "194a04b3",
   "metadata": {},
   "source": []
  }
 ],
 "metadata": {
  "kernelspec": {
   "display_name": "Python 3 (ipykernel)",
   "language": "python",
   "name": "python3"
  },
  "language_info": {
   "codemirror_mode": {
    "name": "ipython",
    "version": 3
   },
   "file_extension": ".py",
   "mimetype": "text/x-python",
   "name": "python",
   "nbconvert_exporter": "python",
   "pygments_lexer": "ipython3",
   "version": "3.9.12"
  }
 },
 "nbformat": 4,
 "nbformat_minor": 5
}
