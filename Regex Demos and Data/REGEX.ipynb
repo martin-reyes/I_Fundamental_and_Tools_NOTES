{
 "cells": [
  {
   "cell_type": "markdown",
   "id": "8fe15c31",
   "metadata": {},
   "source": [
    "# RegEx\n",
    "\n",
    "[Data](https://alamo0-my.sharepoint.com/personal/weastridge_alamo_edu/_layouts/15/onedrive.aspx?id=%2Fpersonal%2Fweastridge%5Falamo%5Fedu%2FDocuments%2FDownloads%2FClass%20Data&ga=1)\n",
    "\n",
    "[Labs](https://alamo0-my.sharepoint.com/personal/weastridge_alamo_edu/_layouts/15/onedrive.aspx?id=%2Fpersonal%2Fweastridge%5Falamo%5Fedu%2FDocuments%2FDownloads%2FLastLab&ga=1)\n",
    "\n",
    "[billsexcellentprogramming.site](https://billsexcellentprogramming.site)\n",
    "\n",
    "bill@billsexcellentprogramming.site\n",
    "\n",
    "- We will use `findall`, `finditer`, `match`, `search`, and `match`. We wont look into `sub`, `split`, and `compile`\n",
    "\n",
    "\n",
    "- `re.findall(pattern, string, flags)`\n",
    "- `re.finditer(pattern, string, flags)`\n",
    "- `re.search(pattern, string, flags)`\n",
    "- `re.match(pattern, string, flags)`\n",
    "\n",
    "\n",
    "- `.\"+?^${}[]\\|`()\n",
    "\n",
    "- use raw strings for regex patterns"
   ]
  },
  {
   "cell_type": "code",
   "execution_count": null,
   "id": "5c5e4b97",
   "metadata": {},
   "outputs": [],
   "source": [
    "import re"
   ]
  },
  {
   "cell_type": "markdown",
   "id": "2b36ada8",
   "metadata": {},
   "source": []
  },
  {
   "cell_type": "markdown",
   "id": "fc00669d",
   "metadata": {},
   "source": []
  },
  {
   "cell_type": "markdown",
   "id": "51a35b20",
   "metadata": {},
   "source": []
  },
  {
   "cell_type": "markdown",
   "id": "95b3c854",
   "metadata": {},
   "source": []
  }
 ],
 "metadata": {
  "kernelspec": {
   "display_name": "Python 3 (ipykernel)",
   "language": "python",
   "name": "python3"
  },
  "language_info": {
   "codemirror_mode": {
    "name": "ipython",
    "version": 3
   },
   "file_extension": ".py",
   "mimetype": "text/x-python",
   "name": "python",
   "nbconvert_exporter": "python",
   "pygments_lexer": "ipython3",
   "version": "3.9.12"
  }
 },
 "nbformat": 4,
 "nbformat_minor": 5
}
