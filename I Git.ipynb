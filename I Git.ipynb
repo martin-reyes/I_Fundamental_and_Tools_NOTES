{
 "cells": [
  {
   "cell_type": "markdown",
   "id": "4043600a",
   "metadata": {},
   "source": [
    "# [Git](https://ds.codeup.com/fundamentals/git/)"
   ]
  },
  {
   "cell_type": "markdown",
   "id": "f35f36d4",
   "metadata": {},
   "source": [
    "### Vocab\n",
    "\n",
    "- local, remote, repo(sitory), add, commit, push, clone\n",
    "\n",
    "### Repo setup\n",
    "- create on github.com, copy SSH, navigate to parent folder of repo, `git clone <SSH>`\n",
    "- `git status/remote` to see status and where repo points to\n",
    "- `git add/commit/push`\n",
    "- `git init` to make directory a git repo\n",
    "- `git branch -M main` must be done after files are added/committed (if there are any files to do so, i.e. not empty)\n",
    "    - `git push  -u origin main`\n",
    "    - `git remove remote origin`\n",
    "- `git config --global user.name/email \"Name\"/email`\n",
    "- `echo '.DS_Store' >> ~/.gitignore_global` ignores .DS_Store files\n",
    "- `git config --global core.excludesfile ~/.gitignore_global` use above file to globally ignore files\n",
    "\n",
    "\n",
    "- `git`\n",
    "    - `diff`    see differences in file(s)\n",
    "    \n",
    "- [Make prodile README on Github](https://docs.github.com/en/account-and-profile/setting-up-and-managing-your-github-profile/customizing-your-profile/managing-your-profile-readme)\n",
    "- [Markdown](https://docs.github.com/en/get-started/writing-on-github/getting-started-with-writing-and-formatting-on-github/basic-writing-and-formatting-syntax)"
   ]
  },
  {
   "cell_type": "code",
   "execution_count": null,
   "id": "9e53a2de",
   "metadata": {},
   "outputs": [],
   "source": []
  },
  {
   "cell_type": "markdown",
   "id": "d9cda9b9",
   "metadata": {},
   "source": [
    "### Group work\n",
    "\n",
    "###### Branches\n",
    "\n",
    "![image](https://i0.wp.com/digitalvarys.com/wp-content/uploads/2019/06/GIT-Branchand-its-Operations.png?w=1921&ssl=1)\n",
    "\n",
    "*each node represents an update (i.e. an `commit/push`)*\n",
    "\n",
    "*each line introducing a branch is a `git branch`*\n",
    "\n",
    "*each line ending a branch is a `git merge`*"
   ]
  },
  {
   "cell_type": "markdown",
   "id": "185fded2",
   "metadata": {},
   "source": [
    "- `git branch -a`: see all branches and current working branch\n",
    "    - `master` branch is like our main code that includes more published code or functions. Usually what we'll `pull` code from to update or read\n",
    "- `git branch [branch_name]`: create branch\n",
    "    - `branch_name` ideally indicates branch purpose or feature it represents (e.g. `acquire-fix` if you're working on acquire data function or `eda-update` or `wrangle-update` if you're cleaning the data, renaming columns, etc.)\n",
    "- `git checkout [branch_name]`: switch to `branch_name`\n",
    "    - when you `add/commit` on this branch, only `branch_name` will be updated\n",
    "- `git checkout -b [new_branch]`: quicker way to create branch and move into it.\n",
    "- `git merge [outer_branch]`: run while in `master` branch to merge outer branch onto it.\\\n",
    "- `git branch -d [branch_name]`: deletes branch if you're done\n"
   ]
  },
  {
   "cell_type": "markdown",
   "id": "0d99d34a",
   "metadata": {},
   "source": [
    "###### Typical Group Process:\n",
    "\n",
    "1. `git clone` the remote repo we are working on to **initiate the project** on your computer.\n",
    "1. `git pull origin master`: **pulls (fetch and merge) code from remote repo** (`origin`) to your local `master` branch. (i.e. *fetches* code from `origin` and *merges* onto local `master`).\n",
    "    1. make sure you are on `master` branch when you run\n",
    "    1. *reminder*: `origin` is default alias for our repo SSH. automatically set during clone, so don't worry about setting this.\n",
    "    1. should be ran whenever changes are made to `master` branch in remote repo\n",
    "        1. e.g. if someone updates the master branch (typically the lead, who's making the merges), you want to run this line to update your code as well.\n",
    "        1. you should usually still be able to make changes if you don't pull right away, but you should want to see the latest updates.\n",
    "1. `git checkout -b [new_branch]`: **make changes / update code** on local repo. do this on a new branch.\n",
    "    1. `add/commit` changes, but *don't merge* these changes onto the `master` branch yet.\n",
    "1. `git push origin [new_branch]`: **push new branch to remote** repo where the lead can review the changes and merge the `new_branch` onto the `master` branch\n",
    "1. **Repeat steps 2-4** to make new changes.\n",
    "    1. Remember to pull to see changes (step 2).\n",
    "    1. *Note*: the non-master branch that is pushed might be deleted after it is merged in the remote repo. If so, just create a new branch to make more changes (step 3). Ideally, name the branch after its purpose (e.g. `acquire_update`)"
   ]
  },
  {
   "cell_type": "code",
   "execution_count": null,
   "id": "59d38c2d",
   "metadata": {},
   "outputs": [],
   "source": []
  },
  {
   "cell_type": "code",
   "execution_count": null,
   "id": "a9acd6e4",
   "metadata": {},
   "outputs": [],
   "source": []
  },
  {
   "cell_type": "code",
   "execution_count": null,
   "id": "e0f2b95a",
   "metadata": {},
   "outputs": [],
   "source": []
  }
 ],
 "metadata": {
  "kernelspec": {
   "display_name": "Python 3 (ipykernel)",
   "language": "python",
   "name": "python3"
  },
  "language_info": {
   "codemirror_mode": {
    "name": "ipython",
    "version": 3
   },
   "file_extension": ".py",
   "mimetype": "text/x-python",
   "name": "python",
   "nbconvert_exporter": "python",
   "pygments_lexer": "ipython3",
   "version": "3.10.9"
  },
  "varInspector": {
   "cols": {
    "lenName": 16,
    "lenType": 16,
    "lenVar": 40
   },
   "kernels_config": {
    "python": {
     "delete_cmd_postfix": "",
     "delete_cmd_prefix": "del ",
     "library": "var_list.py",
     "varRefreshCmd": "print(var_dic_list())"
    },
    "r": {
     "delete_cmd_postfix": ") ",
     "delete_cmd_prefix": "rm(",
     "library": "var_list.r",
     "varRefreshCmd": "cat(var_dic_list()) "
    }
   },
   "types_to_exclude": [
    "module",
    "function",
    "builtin_function_or_method",
    "instance",
    "_Feature"
   ],
   "window_display": false
  }
 },
 "nbformat": 4,
 "nbformat_minor": 5
}
