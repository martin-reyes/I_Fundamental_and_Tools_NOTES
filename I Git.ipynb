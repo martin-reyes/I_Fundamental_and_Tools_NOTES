{
 "cells": [
  {
   "cell_type": "markdown",
   "id": "4043600a",
   "metadata": {},
   "source": [
    "# [Git](https://ds.codeup.com/fundamentals/git/)"
   ]
  },
  {
   "cell_type": "markdown",
   "id": "f35f36d4",
   "metadata": {},
   "source": [
    "### Vocab\n",
    "\n",
    "- local, remote, repo(sitory), add, commit, push, clone\n",
    "\n",
    "### Repo setup\n",
    "- create on github.com, copy SSH, navigate to parent folder of repo, `git clone <SSH>`\n",
    "- `git status/remote` to see status and where repo points to\n",
    "- `git add/commit/push`\n",
    "- `git config --global user.name/email \"Name\"/email`\n",
    "- `echo '.DS_Store' >> ~/.gitignore_global` ignores .DS_Store files\n",
    "- `git config --global core.excludesfile ~/.gitignore_global` use above file to globally ignore files\n",
    "\n",
    "\n",
    "- `git`\n",
    "    - `diff`    see differences in file(s)\n",
    "    \n",
    "- [Make prodile README on Github](https://docs.github.com/en/account-and-profile/setting-up-and-managing-your-github-profile/customizing-your-profile/managing-your-profile-readme)\n",
    "- [Markdown](https://docs.github.com/en/get-started/writing-on-github/getting-started-with-writing-and-formatting-on-github/basic-writing-and-formatting-syntax)"
   ]
  },
  {
   "cell_type": "code",
   "execution_count": null,
   "id": "9e53a2de",
   "metadata": {},
   "outputs": [],
   "source": []
  }
 ],
 "metadata": {
  "kernelspec": {
   "display_name": "Python 3 (ipykernel)",
   "language": "python",
   "name": "python3"
  },
  "language_info": {
   "codemirror_mode": {
    "name": "ipython",
    "version": 3
   },
   "file_extension": ".py",
   "mimetype": "text/x-python",
   "name": "python",
   "nbconvert_exporter": "python",
   "pygments_lexer": "ipython3",
   "version": "3.9.12"
  }
 },
 "nbformat": 4,
 "nbformat_minor": 5
}
