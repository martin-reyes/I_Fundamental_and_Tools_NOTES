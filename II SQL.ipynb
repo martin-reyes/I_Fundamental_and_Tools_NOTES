{
 "cells": [
  {
   "cell_type": "markdown",
   "id": "b5a68290",
   "metadata": {},
   "source": [
    "# SQL"
   ]
  },
  {
   "cell_type": "markdown",
   "id": "31f13b63",
   "metadata": {},
   "source": [
    "### Intro\n",
    "\n",
    "- vocab: RDBMS, Database, Database Client, DDL (Data Definition Language), DML (Data Manipulation Language)\n",
    "- in CLI: `mysql -h ip.of.your.host -u your_username -p`\n",
    "    - to connect use `host`, `user`, and `password` provided by your MySQL Administrator\n",
    "    - Once connected: `SHOW DATABASES;`, `SELECT user, host FROM mysql.user;`, `exit`, `quit`\n",
    "    - login in `login.txt file` in parent folder (CU_DS_NOTES)\n",
    "- in GUI: `mysqlworkbench --query /path/to/sql/file.sql`  \n",
    "    - **Look into running this command with PATH config**\n",
    "    - **Look into installing mysql extension in vscode**\n"
   ]
  },
  {
   "cell_type": "markdown",
   "id": "2b6fddfd",
   "metadata": {},
   "source": [
    "### Database and Tables\n",
    "\n",
    "\n",
    "- `SHOW DATABASES;` List db's\n",
    "- `USE db_name;` Select db\n",
    "- `SELECT database();` Show current db\n",
    "- `SHOW CREATE DATABASE db_name;` Find out the query used to create a database\n",
    "- `SHOW TABLES;`\n",
    "- `SHOW CREATE TABLE (database_name.)table_name;` (e.g. `mysql.user`)\n",
    "- `DESCRIBE (database_name.)table_name;`\n",
    "- [reserved words](https://dev.mysql.com/doc/refman/5.7/en/keywords.html)\n",
    "- `SELECT COLUMN_NAME, DATA_TYPE FROM INFORMATION_SCHEMA.COLUMNS WHERE table_schema = 'db_name' AND table_name = 'table_name';`\n",
    "\n",
    "- Data Types\n",
    "    - Numeric: `INT/TINYINT (UNSIGNED)`, `FLOAT`/`DOUBLE`, `DECIMAL(len, prec)`\n",
    "    - String: `CHAR(len < 255)`, `VARCHAR(len < 65,535)`, `TEXT`\n",
    "    - Data: `DATE`, `TIME`, `DATETIME` `YYYY-MM-DD HH:MM:SS`\n",
    "    - Null: `(NOT) NULL`\n",
    "    \n",
    " - Creating Tables:\n",
    "     - ```\n",
    "     CREATE TABLE quotes (\n",
    "            id INT UNSIGNED NOT NULL AUTO_INCREMENT,\n",
    "            author_first_name VARCHAR(50),\n",
    "            author_last_name  VARCHAR(100) NOT NULL,\n",
    "            content TEXT NOT NULL,\n",
    "            PRIMARY KEY (id)\n",
    "        );\n",
    "        ```\n",
    "            \n",
    "    "
   ]
  },
  {
   "cell_type": "markdown",
   "id": "df84477c",
   "metadata": {},
   "source": [
    "### Basic Statements\n",
    "- CRUD (`CREATE`, `READ`, `UPDATE`, and `DELETE`)\n",
    "- Comments: `#` or `--` or `/* */` (multiline)\n",
    "- `SELECT`\n",
    "    - `DISTINCT` eliminates duplicate values\n",
    "    - `AS` aslias\n",
    "    - `WHERE <conditional>` \n",
    "    - `GROUP_CONCAT(name SEPARATOR ', ')` to make a list, name is the column name\n"
   ]
  },
  {
   "cell_type": "markdown",
   "id": "4afee15b",
   "metadata": {},
   "source": [
    "### Clauses\n",
    "\n",
    "- **WHERE Advanced**\n",
    "    - `BETWEEN` find specific ranges of values\n",
    "    - `LIKE / NOT LIKE` option to find similarities, `%` is wildcard\n",
    "        - `'%a'` a at the end, `'a%'` a at the beginning, `'%a%'` a anywhere\n",
    "    - `IN ()` query only specific sets of values \n",
    "    - `(IS) NULL / NOT NULL`\n",
    "    - can chain conditional statements with `AND` or `OR`\n",
    "- **ORDER BY**\n",
    "    - `ORDER BY col_name [ASC|DESC]` ASC is default \n",
    "    - can chain columns (e.g. `ORDER BY col1 DESC, col2 ASC`)\n",
    "    \n",
    "- **LIMIT**\n",
    "    - `LIMIT count [OFFSET count]` OFFSET says which row to start at\n",
    "    - **Q: In the exercises, multiple rows/employees have the same hire date. Do these come out in random order within each other? When I run Limit 5 and keep changing the offset, the order seems to change (question 4)**"
   ]
  },
  {
   "cell_type": "markdown",
   "id": "dfb69a46",
   "metadata": {},
   "source": [
    "### [Functions](https://dev.mysql.com/doc/refman/5.7/en/functions.html)\n",
    "\n",
    "- [Numerical Functions](https://dev.mysql.com/doc/refman/5.7/en/numeric-functions.html)\n",
    "    - `AVG()`,`MIN()`,`MAX()`, `VARIANCE`, `STDDEV()`\n",
    "\n",
    "- [String Functions](https://dev.mysql.com/doc/refman/5.7/en/string-functions.html)\n",
    "    - `CONCAT()`, `SUBSTR()`/`LEFT()`/`RIGHT()`, `UPPER()`, `LOWER()`, `REPLACE(str, substr, newstr)`\n",
    "\n",
    "- [Date and Time Functions](https://dev.mysql.com/doc/refman/5.7/en/date-and-time-functions.html)\n",
    "    - `NOW()/CURRENT_TIMESTAMP()`, `CURDATE()/CURTIME()`\n",
    "    - `UNIX_TIMESTAMP(date)`, `DATEDIFF(NOW()/date_after, date_before)`\n",
    "    - `YEAR()`, `MONTH()`, `WEEK()`\n",
    "\n",
    "- Casting\n",
    "    - MySQL often autocasts, but we can use CAST(data as data_type)\n",
    "\n",
    "\n",
    "- [Math Functions](https://dev.mysql.com/doc/refman/5.7/en/mathematical-functions.html)\n",
    "\n",
    "- [RegEx](https://dev.mysql.com/doc/refman/5.7/en/regexp.html#regexp-syntax)"
   ]
  },
  {
   "cell_type": "markdown",
   "id": "f82f1b3b",
   "metadata": {},
   "source": [
    "### Group By\n",
    "\n",
    "- `GROUP BY`\n",
    "    - `SELECT DISTINCT first_name FROM employees;` same as\n",
    "    \n",
    "         `SELECT first_name FROM employees GROUP BY first_name;`\n",
    "    - grouping by multiple columns will return all of the unique combinations \n",
    "    - [Aggregate Functions](https://dev.mysql.com/doc/refman/8.0/en/aggregate-functions.html)\n",
    "        - `COUNT([DISTINCT] col/*)`\n",
    "- `HAVING <conditional>`"
   ]
  },
  {
   "cell_type": "markdown",
   "id": "f6e531e1",
   "metadata": {},
   "source": [
    "### Relationships\n",
    "\n",
    "- 1-to-1: e.g. one person to one id\n",
    "- 1-to-M: e.g. one museum to many pieces of arts\n",
    "- M-to-N: e.g. many people to many tasks\n",
    "\n",
    "\n",
    "- **[Indexes](https://dev.mysql.com/doc/refman/8.0/en/mysql-indexes.html)**\n",
    "    - PK's\n",
    "    - `UNIQUE` key\n",
    "        - can be multiple columns (e.g. UNIQUE(first_name, last_name))\n",
    "    - FK's\n",
    "\n",
    "- **Joins**\n",
    "    - BASIC/`INNER JOIN` default\n",
    "    - `LEFT`, returns all of left table\n",
    "    - `RIGHT`, returns all of right table\n",
    "    - `ON/USING`\n",
    "        - ON allows us to use `AND` for conditions\n",
    "    - can alias table\n",
    "    - Associative/Joiner tables can relate two unrelated tables to each other\n",
    "\n",
    "- **Subqueries**\n",
    "- Scalar subqueries return a single value\n",
    "    - Can use these subqueries in other statements like WHERE and HAVING\n",
    "- Column subqueries\n",
    "    \n",
    "```\n",
    "SELECT column_a, column_b, column_c\n",
    "FROM table_a\n",
    "WHERE column_a IN (\n",
    "    SELECT column_a\n",
    "    FROM table_b\n",
    ");\n",
    "```\n",
    "- Row subqueries return single rows\n",
    "\n",
    "```\n",
    "SELECT first_name, last_name, birth_date\n",
    "FROM employees\n",
    "WHERE emp_no = (\n",
    "    SELECT emp_no\n",
    "    FROM employees\n",
    "    WHERE emp_no = 101010\n",
    ");\n",
    "    \n",
    "```\n",
    "\n",
    "- Table Subqueries return a single table"
   ]
  },
  {
   "cell_type": "markdown",
   "id": "533729f0",
   "metadata": {},
   "source": [
    "### Case Statements\n",
    "\n",
    "- `IF()` function\n",
    "    - `SELECT IF(condition, value_1, value_2) AS new_column FROM table_a`\n",
    "  \n",
    "- `CASE` [col]\n",
    "    - `WHEN` value1 / conditional `THEN` new_value1\n",
    "    - `ELSE` new_value2\n",
    "    - `END AS` new_col\n",
    "    - adds new column to SELECT query  \n",
    "- Pivot table\n",
    "\n",
    "    e.g.\n",
    "```\n",
    "SELECT col_to_group\n",
    "    COUNT(CASE WHEN col = val1 THEN col ELSE NULL END) AS 'val1',\n",
    "    COUNT(CASE WHEN col = val2 THEN col ELSE NULL END) AS 'val2',\n",
    "    COUNT(CASE WHEN col = val3 THEN col ELSE NULL END) AS 'val3'\n",
    "FROM table(s)\n",
    "GROUP BY col_to_group;\n",
    "```"
   ]
  },
  {
   "cell_type": "markdown",
   "id": "af05a1f9",
   "metadata": {},
   "source": [
    "### Temporary Tables\n",
    "\n",
    "- `CREATE TEMPORARY TABLE table_name([cols]);` (must have privilege)\n",
    "- `CREATE TEMPORARY TABLE table_name AS (subquery)`\n",
    "\n",
    "- `INSERT INTO table_name(col) VALUES (), ..., ();`\n",
    "- `INSERT INTO table_name(col) VALUES (subquery);`\n",
    "\n",
    "- `UPDATE table_name SET orig_vals = new_values/operations/altered_foreign_cols`\n",
    "- `DELETE FROM table_name WHERE condition`\n",
    "\n",
    "- `ALTER TABLE table_name DROP COLUMN col`\n",
    "- `ALTER TABLE table_name ADD col`\n",
    "    - update as shown above\n",
    "\n",
    "- \"It is common to separate databases and specify different permissions for different users. One technique is to set only one database up as a sandbox with full permissions for a given user or analyst\"\n",
    "\n",
    "    e.g.\n",
    "```\n",
    "It is common to separate databases and specify different permissions for different users. One technique is to set only one database up as a sandbox with full permissions for a given user or analyst\n",
    "```"
   ]
  },
  {
   "cell_type": "markdown",
   "id": "48e7484b",
   "metadata": {},
   "source": [
    "### More exercises"
   ]
  },
  {
   "cell_type": "markdown",
   "id": "7dee4f34",
   "metadata": {},
   "source": [
    "#### [Execution Order](https://www.google.com/url?sa=i&url=https%3A%2F%2Fwww.pinterest.com%2Fpin%2Forder-of-sql-queries--672232681872316724%2F&psig=AOvVaw1CtBQzMnjGPQMcH9eMmO0e&ust=1683220271712000&source=images&cd=vfe&ved=0CBAQjRxqFwoTCJDkh6XS2f4CFQAAAAAdAAAAABAP![image-2.png](attachment:image-2.png))"
   ]
  },
  {
   "cell_type": "code",
   "execution_count": null,
   "id": "b3b67dfc",
   "metadata": {},
   "outputs": [],
   "source": []
  }
 ],
 "metadata": {
  "kernelspec": {
   "display_name": "Python 3 (ipykernel)",
   "language": "python",
   "name": "python3"
  },
  "language_info": {
   "codemirror_mode": {
    "name": "ipython",
    "version": 3
   },
   "file_extension": ".py",
   "mimetype": "text/x-python",
   "name": "python",
   "nbconvert_exporter": "python",
   "pygments_lexer": "ipython3",
   "version": "3.10.9"
  },
  "varInspector": {
   "cols": {
    "lenName": 16,
    "lenType": 16,
    "lenVar": 40
   },
   "kernels_config": {
    "python": {
     "delete_cmd_postfix": "",
     "delete_cmd_prefix": "del ",
     "library": "var_list.py",
     "varRefreshCmd": "print(var_dic_list())"
    },
    "r": {
     "delete_cmd_postfix": ") ",
     "delete_cmd_prefix": "rm(",
     "library": "var_list.r",
     "varRefreshCmd": "cat(var_dic_list()) "
    }
   },
   "types_to_exclude": [
    "module",
    "function",
    "builtin_function_or_method",
    "instance",
    "_Feature"
   ],
   "window_display": false
  }
 },
 "nbformat": 4,
 "nbformat_minor": 5
}
