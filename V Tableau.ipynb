{
 "cells": [
  {
   "cell_type": "markdown",
   "id": "545886eb",
   "metadata": {},
   "source": [
    "# Tableau\n",
    "\n",
    "[Download](https://public.tableau.com/en-us/download)\n",
    "&nbsp;&nbsp;&nbsp;&nbsp;&nbsp;&nbsp;&nbsp;&nbsp;[Create Public Profile](https://public.tableau.com/en-us/s)\n",
    "- File types: \n",
    "    - .twb: Workbook\n",
    "    - .tds: Data Source\n",
    "    - .tbm: Bookmark\n",
    "    - .tde: Data Extract\n",
    "    - .tdbx: Packaged Workbook"
   ]
  },
  {
   "cell_type": "markdown",
   "id": "17fb2d3d",
   "metadata": {},
   "source": [
    "### Connecting to Data"
   ]
  },
  {
   "cell_type": "markdown",
   "id": "085af27b",
   "metadata": {},
   "source": [
    "### Creating Custom Fields"
   ]
  },
  {
   "cell_type": "markdown",
   "id": "b973be30",
   "metadata": {},
   "source": [
    "### Creating Charts"
   ]
  },
  {
   "cell_type": "markdown",
   "id": "de621ad5",
   "metadata": {},
   "source": [
    "### Creating Dashboards"
   ]
  },
  {
   "cell_type": "markdown",
   "id": "67451969",
   "metadata": {},
   "source": [
    "### Creating Stories"
   ]
  },
  {
   "cell_type": "markdown",
   "id": "2df47dc4",
   "metadata": {},
   "source": []
  }
 ],
 "metadata": {
  "kernelspec": {
   "display_name": "Python 3 (ipykernel)",
   "language": "python",
   "name": "python3"
  },
  "language_info": {
   "codemirror_mode": {
    "name": "ipython",
    "version": 3
   },
   "file_extension": ".py",
   "mimetype": "text/x-python",
   "name": "python",
   "nbconvert_exporter": "python",
   "pygments_lexer": "ipython3",
   "version": "3.9.12"
  }
 },
 "nbformat": 4,
 "nbformat_minor": 5
}
