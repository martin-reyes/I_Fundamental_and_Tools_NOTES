{
 "cells": [
  {
   "cell_type": "markdown",
   "id": "545886eb",
   "metadata": {},
   "source": [
    "# Tableau\n",
    "\n",
    "[Download](https://public.tableau.com/en-us/download)\n",
    "&nbsp;&nbsp;&nbsp;&nbsp;&nbsp;&nbsp;&nbsp;&nbsp;[Create Public Profile](https://public.tableau.com/en-us/s)\n",
    "- File types: \n",
    "    - .twb: Workbook\n",
    "    - .tds: Data Source\n",
    "    - .tbm: Bookmark\n",
    "    - .tde: Data Extract\n",
    "    - .tdbx: Packaged Workbook"
   ]
  },
  {
   "cell_type": "markdown",
   "id": "17fb2d3d",
   "metadata": {},
   "source": [
    "### Connecting to Data\n",
    "\n",
    "Primary Data Sources:\n",
    "\n",
    "- Local Files\n",
    "\n",
    "    - Excel: .xls, .xlsx\n",
    "    - Text: .csv, .txt, .tsv, .tab\n",
    "    - JSON Files: .json\n",
    "    - PDF Files: .pdf\n",
    "    - Spatial Files: Esri File Geodatabases (gdb*.zip), Esri Shapefiles (.shp), MapInfo Tables (.tab), MapInfo Interchange Format (.mif), GeoJSON (.geojson), TopoJSON (.json, .topojson), KML (.kml)\n",
    "    - Statistical Files: SAS (.sas7bdat), SPSS (.sav), R (.rda, .rdata)\n",
    "\n",
    "- Servers\n",
    "\n",
    "    - Google Sheets\n",
    "    - OData: mysql database server, e.g.\n",
    "    - Web data connector"
   ]
  },
  {
   "cell_type": "markdown",
   "id": "085af27b",
   "metadata": {},
   "source": [
    "### Creating Custom Fields"
   ]
  },
  {
   "cell_type": "markdown",
   "id": "b973be30",
   "metadata": {},
   "source": [
    "### Creating Charts"
   ]
  },
  {
   "cell_type": "markdown",
   "id": "de621ad5",
   "metadata": {},
   "source": [
    "### Creating Dashboards"
   ]
  },
  {
   "cell_type": "markdown",
   "id": "67451969",
   "metadata": {},
   "source": [
    "### Creating Stories"
   ]
  },
  {
   "cell_type": "markdown",
   "id": "2df47dc4",
   "metadata": {},
   "source": []
  }
 ],
 "metadata": {
  "kernelspec": {
   "display_name": "Python 3 (ipykernel)",
   "language": "python",
   "name": "python3"
  },
  "language_info": {
   "codemirror_mode": {
    "name": "ipython",
    "version": 3
   },
   "file_extension": ".py",
   "mimetype": "text/x-python",
   "name": "python",
   "nbconvert_exporter": "python",
   "pygments_lexer": "ipython3",
   "version": "3.10.9"
  },
  "varInspector": {
   "cols": {
    "lenName": 16,
    "lenType": 16,
    "lenVar": 40
   },
   "kernels_config": {
    "python": {
     "delete_cmd_postfix": "",
     "delete_cmd_prefix": "del ",
     "library": "var_list.py",
     "varRefreshCmd": "print(var_dic_list())"
    },
    "r": {
     "delete_cmd_postfix": ") ",
     "delete_cmd_prefix": "rm(",
     "library": "var_list.r",
     "varRefreshCmd": "cat(var_dic_list()) "
    }
   },
   "types_to_exclude": [
    "module",
    "function",
    "builtin_function_or_method",
    "instance",
    "_Feature"
   ],
   "window_display": false
  }
 },
 "nbformat": 4,
 "nbformat_minor": 5
}
