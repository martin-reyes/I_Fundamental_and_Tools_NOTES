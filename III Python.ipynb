{
 "cells": [
  {
   "cell_type": "markdown",
   "id": "dce3b7ac",
   "metadata": {},
   "source": [
    "# PYTHON"
   ]
  },
  {
   "cell_type": "markdown",
   "id": "54f2c7db",
   "metadata": {},
   "source": [
    "### Install\n",
    "`brew install --cask anaconda`\n",
    "#### Set the PATH variable to include the location of the Anaconda distribution\n",
    "For Intel CPU: `echo 'export PATH=/usr/local/anaconda3/bin:$PATH' >> ~/.zshrc`\n",
    "#### Reload the configuration file to allow the changes to take effect\n",
    "`source ~/.zshrc`\n",
    "\n",
    "`python --version` to verify installation\n",
    "### Using Python\n",
    "- In Terminal: `python`/`ipython`, `quit()`/`help()`\n",
    "- To use `code`: `cmd+shft+P` in VSCode and click `Install code...path`"
   ]
  },
  {
   "cell_type": "markdown",
   "id": "3b28a380",
   "metadata": {},
   "source": [
    "### Python notes\n",
    "\n",
    "[String Methods](https://www.w3schools.com/python/python_ref_string.asp)\n",
    "\n",
    "[List Methods](https://www.w3schools.com/python/python_ref_list.asp)\n",
    "\n",
    "- *args unpacks list of arguments\n",
    "- \\**kwargs unpack dictionary of args where keys are parameters and values are arguments\n",
    "\n",
    "    - e.g. `rand_func(argu_1 = 1, *args, **kwargs)`"
   ]
  },
  {
   "cell_type": "markdown",
   "id": "fee58800",
   "metadata": {},
   "source": [
    "# DS Libraries\n",
    "\n",
    "#### [numpy](https://numpy.org/doc/stable/)\n",
    "\n"
   ]
  },
  {
   "cell_type": "markdown",
   "id": "701c29f5",
   "metadata": {},
   "source": [
    "#### [pandas](https://pandas.pydata.org/docs/)\n"
   ]
  },
  {
   "cell_type": "markdown",
   "id": "1fba1f45",
   "metadata": {},
   "source": [
    "#### [matplotlib](https://matplotlib.org/stable/index.html)"
   ]
  },
  {
   "cell_type": "markdown",
   "id": "6382b053",
   "metadata": {},
   "source": [
    "#### [seaborn](https://seaborn.pydata.org/api.html)"
   ]
  },
  {
   "cell_type": "code",
   "execution_count": null,
   "id": "0638a8ab",
   "metadata": {},
   "outputs": [],
   "source": []
  }
 ],
 "metadata": {
  "kernelspec": {
   "display_name": "Python 3 (ipykernel)",
   "language": "python",
   "name": "python3"
  },
  "language_info": {
   "codemirror_mode": {
    "name": "ipython",
    "version": 3
   },
   "file_extension": ".py",
   "mimetype": "text/x-python",
   "name": "python",
   "nbconvert_exporter": "python",
   "pygments_lexer": "ipython3",
   "version": "3.10.9"
  }
 },
 "nbformat": 4,
 "nbformat_minor": 5
}
