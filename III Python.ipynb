{
 "cells": [
  {
   "cell_type": "markdown",
   "id": "dce3b7ac",
   "metadata": {},
   "source": [
    "# PYTHON"
   ]
  },
  {
   "cell_type": "markdown",
   "id": "54f2c7db",
   "metadata": {},
   "source": [
    "### Install\n",
    "`brew install --cask anaconda`\n",
    "#### Set the PATH variable to include the location of the Anaconda distribution\n",
    "For Intel CPU: `echo 'export PATH=/usr/local/anaconda3/bin:$PATH' >> ~/.zshrc`\n",
    "#### Reload the configuration file to allow the changes to take effect\n",
    "`source ~/.zshrc`\n",
    "\n",
    "`python --version` to verify installation\n",
    "### Using Python\n",
    "- In Terminal: `python`/`ipython`, `quit()`/`help()`\n",
    "- To use `code`: `cmd+shft+P` in VSCode and click `Install code...path`"
   ]
  },
  {
   "cell_type": "markdown",
   "id": "3b28a380",
   "metadata": {},
   "source": [
    "### Python notes\n",
    "\n",
    "[String Methods](https://www.w3schools.com/python/python_ref_string.asp)\n",
    "\n",
    "[List Methods](https://www.w3schools.com/python/python_ref_list.asp)\n",
    "\n",
    "- *args unpacks list of arguments\n",
    "- \\**kwargs unpack dictionary of args where keys are parameters and values are arguments\n",
    "\n",
    "    - e.g. `rand_func(argu_1 = 1, *args, **kwargs)`"
   ]
  },
  {
   "cell_type": "markdown",
   "id": "bae3d45f",
   "metadata": {},
   "source": [
    "#### String Formatting"
   ]
  },
  {
   "cell_type": "code",
   "execution_count": 12,
   "id": "5d07f1da",
   "metadata": {},
   "outputs": [
    {
     "name": "stdout",
     "output_type": "stream",
     "text": [
      "Hello, World!\n",
      "Hello, World!\n",
      "Hello, World!\n"
     ]
    }
   ],
   "source": [
    "name = 'World'\n",
    "str1 = 'Hello, %s!' % name\n",
    "print('Hello, %s!' % name)\n",
    "str2 = 'Hello, {}!'.format(name)\n",
    "print('Hello, %s!' % name)\n",
    "str3 = f'Hello {name}!'\n",
    "print('Hello, %s!' % name)"
   ]
  },
  {
   "cell_type": "markdown",
   "id": "fee58800",
   "metadata": {},
   "source": [
    "# DS Libraries\n",
    "\n",
    "### [numpy](https://numpy.org/doc/stable/)"
   ]
  },
  {
   "cell_type": "code",
   "execution_count": 13,
   "id": "6bdbd658",
   "metadata": {},
   "outputs": [],
   "source": [
    "import numpy as np"
   ]
  },
  {
   "cell_type": "code",
   "execution_count": 14,
   "id": "b4879d4c",
   "metadata": {},
   "outputs": [
    {
     "name": "stdout",
     "output_type": "stream",
     "text": [
      "[[ 4  5]\n",
      " [ 7  8]\n",
      " [10 11]]\n"
     ]
    },
    {
     "data": {
      "text/plain": [
       "(4, 3)"
      ]
     },
     "execution_count": 14,
     "metadata": {},
     "output_type": "execute_result"
    }
   ],
   "source": [
    "# array\n",
    "a = np.array([1, 2, 3])\n",
    "\n",
    "# matrix\n",
    "matrix = np.array([[1, 2, 3],\n",
    "                   [4, 5, 6],\n",
    "                   [7, 8, 9],\n",
    "                   [10, 11, 12]])\n",
    "\n",
    "# index r x c\n",
    "print(matrix[1:, :2])\n",
    "\n",
    "matrix.shape"
   ]
  },
  {
   "cell_type": "code",
   "execution_count": 15,
   "id": "277d963b",
   "metadata": {},
   "outputs": [],
   "source": [
    "# vectorized operations\n",
    "# i.e. we can operate on an array with an operator, unlike on a list\n",
    "# including comparison operators"
   ]
  },
  {
   "cell_type": "code",
   "execution_count": 16,
   "id": "5573b54f",
   "metadata": {},
   "outputs": [
    {
     "name": "stdout",
     "output_type": "stream",
     "text": [
      "[[ 3  4  5]\n",
      " [ 6  7  8]\n",
      " [ 9 10 11]\n",
      " [12 13 14]]\n",
      "[[False False False]\n",
      " [False False False]\n",
      " [False False  True]\n",
      " [ True  True  True]]\n"
     ]
    }
   ],
   "source": [
    "print(matrix + 2)\n",
    "print(matrix > 8)"
   ]
  },
  {
   "cell_type": "code",
   "execution_count": 17,
   "id": "e00aa8f7",
   "metadata": {},
   "outputs": [
    {
     "data": {
      "text/plain": [
       "array([ 2,  4,  6,  8, 10, 12])"
      ]
     },
     "execution_count": 17,
     "metadata": {},
     "output_type": "execute_result"
    }
   ],
   "source": [
    "# Can index/filter array/matrix with conditional, array returned\n",
    "matrix[matrix % 2 == 0]"
   ]
  },
  {
   "cell_type": "markdown",
   "id": "44c2d652",
   "metadata": {},
   "source": [
    "[np.random](https://numpy.org/doc/stable/reference/random/index.html#module-numpy.random).randn()"
   ]
  },
  {
   "cell_type": "code",
   "execution_count": 18,
   "id": "57fbb742",
   "metadata": {},
   "outputs": [
    {
     "data": {
      "text/plain": [
       "array([ 0.26400169,  0.67710848, -0.00749384, -0.55002934,  1.03815064,\n",
       "       -0.16349687,  0.91270525,  0.82213286,  1.16396882, -1.48853388])"
      ]
     },
     "execution_count": 18,
     "metadata": {},
     "output_type": "execute_result"
    }
   ],
   "source": [
    "# array sample size 10\n",
    "np.random.randn(10)"
   ]
  },
  {
   "cell_type": "code",
   "execution_count": 19,
   "id": "82486a27",
   "metadata": {},
   "outputs": [
    {
     "data": {
      "text/plain": [
       "array([[-0.98022898, -0.07788525,  0.09117397,  0.31879588],\n",
       "       [ 0.6799653 , -0.5230222 ,  1.13391162, -0.22241111],\n",
       "       [ 2.35470193, -0.32744803,  0.63880289,  0.30988093]])"
      ]
     },
     "execution_count": 19,
     "metadata": {},
     "output_type": "execute_result"
    }
   ],
   "source": [
    "# matrix sample\n",
    "np.random.randn(3, 4)"
   ]
  },
  {
   "cell_type": "code",
   "execution_count": 20,
   "id": "31f69318",
   "metadata": {},
   "outputs": [
    {
     "data": {
      "text/plain": [
       "array([ 85.36516404, 105.6936453 ,  89.61954853, 105.35734702,\n",
       "        93.28915034,  92.96363448,  68.87326956,  97.64253695,\n",
       "        80.82893479,  76.12990633,  80.01297509,  82.24792643,\n",
       "       108.37390146,  92.5863223 ,  83.67464715,  65.90844458,\n",
       "       121.16269402, 140.21229476, 108.47694508,  96.61625513])"
      ]
     },
     "execution_count": 20,
     "metadata": {},
     "output_type": "execute_result"
    }
   ],
   "source": [
    "mu = 100\n",
    "sigma = 20\n",
    "\n",
    "sigma * np.random.randn(20) + mu"
   ]
  },
  {
   "cell_type": "code",
   "execution_count": 21,
   "id": "7718be3e",
   "metadata": {},
   "outputs": [
    {
     "name": "stdout",
     "output_type": "stream",
     "text": [
      "[0. 0. 0.]\n",
      "[1. 1. 1.]\n",
      "[17 17 17]\n",
      "[0 1 2 3]\n",
      "[1 2 3]\n",
      "[1 3 5 7]\n",
      "[1.  1.5 2.  2.5 3.  3.5 4. ]\n"
     ]
    }
   ],
   "source": [
    "print(np.zeros(3))\n",
    "print(np.ones(3))\n",
    "print(np.full(3, 17))\n",
    "print(np.arange(4)) # max - 1\n",
    "print(np.arange(1, 4)) # min, max - 1\n",
    "print(np.arange(1, 9, 2)) # min, max - 1, step\n",
    "print(np.linspace(1, 4, 7)) # min, max, elements"
   ]
  },
  {
   "cell_type": "markdown",
   "id": "e1585f4c",
   "metadata": {},
   "source": [
    "[Array methods](https://numpy.org/doc/stable/reference/arrays.ndarray.html#array-methods): `.min()`, `.max()`, `.mean()`, `.std()`, `.sum()`, etc"
   ]
  },
  {
   "cell_type": "markdown",
   "id": "701c29f5",
   "metadata": {},
   "source": [
    "### [pandas](https://pandas.pydata.org/docs/)\n",
    "\n",
    "##### Series\n",
    "**Part 1**\n",
    "\n",
    "From a list, array, dictionary: - `myseries = pd.Series(<list or array or dictionary>)`\n",
    "\n",
    "From existing dataframe:\n",
    "\n",
    "`myseries = df['col_for_series']`\n",
    "\n",
    "`myseries = df.col_for_series`"
   ]
  },
  {
   "cell_type": "code",
   "execution_count": 23,
   "id": "6c9610b1",
   "metadata": {},
   "outputs": [
    {
     "name": "stdout",
     "output_type": "stream",
     "text": [
      "0    2\n",
      "1    3\n",
      "2    5\n",
      "dtype: int64 \n",
      "\n",
      "0     8.0\n",
      "1    13.0\n",
      "2    21.0\n",
      "dtype: float64 \n",
      "\n",
      "a    0.0\n",
      "b    1.5\n",
      "c    2.0\n",
      "d    3.5\n",
      "e    4.0\n",
      "f    5.5\n",
      "dtype: float64 \n",
      "\n"
     ]
    },
    {
     "data": {
      "text/html": [
       "<div>\n",
       "<style scoped>\n",
       "    .dataframe tbody tr th:only-of-type {\n",
       "        vertical-align: middle;\n",
       "    }\n",
       "\n",
       "    .dataframe tbody tr th {\n",
       "        vertical-align: top;\n",
       "    }\n",
       "\n",
       "    .dataframe thead th {\n",
       "        text-align: right;\n",
       "    }\n",
       "</style>\n",
       "<table border=\"1\" class=\"dataframe\">\n",
       "  <thead>\n",
       "    <tr style=\"text-align: right;\">\n",
       "      <th></th>\n",
       "      <th>Reaction</th>\n",
       "      <th>Days</th>\n",
       "      <th>Subject</th>\n",
       "    </tr>\n",
       "  </thead>\n",
       "  <tbody>\n",
       "    <tr>\n",
       "      <th>1</th>\n",
       "      <td>249.5600</td>\n",
       "      <td>0</td>\n",
       "      <td>308</td>\n",
       "    </tr>\n",
       "    <tr>\n",
       "      <th>2</th>\n",
       "      <td>258.7047</td>\n",
       "      <td>1</td>\n",
       "      <td>308</td>\n",
       "    </tr>\n",
       "    <tr>\n",
       "      <th>3</th>\n",
       "      <td>250.8006</td>\n",
       "      <td>2</td>\n",
       "      <td>308</td>\n",
       "    </tr>\n",
       "    <tr>\n",
       "      <th>4</th>\n",
       "      <td>321.4398</td>\n",
       "      <td>3</td>\n",
       "      <td>308</td>\n",
       "    </tr>\n",
       "    <tr>\n",
       "      <th>5</th>\n",
       "      <td>356.8519</td>\n",
       "      <td>4</td>\n",
       "      <td>308</td>\n",
       "    </tr>\n",
       "  </tbody>\n",
       "</table>\n",
       "</div>"
      ],
      "text/plain": [
       "   Reaction  Days  Subject\n",
       "1  249.5600     0      308\n",
       "2  258.7047     1      308\n",
       "3  250.8006     2      308\n",
       "4  321.4398     3      308\n",
       "5  356.8519     4      308"
      ]
     },
     "execution_count": 23,
     "metadata": {},
     "output_type": "execute_result"
    }
   ],
   "source": [
    "import pandas as pd\n",
    "from pydataset import data\n",
    "\n",
    "my_list = [2, 3, 5]\n",
    "print(pd.Series(my_list), '\\n')\n",
    "\n",
    "my_array = np.array([8.0, 13.0, 21.0])\n",
    "print(pd.Series(my_array), '\\n')\n",
    "\n",
    "labeled_series = pd.Series({'a' : 0, 'b' : 1.5, 'c' : 2, 'd': 3.5, 'e': 4, 'f': 5.5})\n",
    "print(labeled_series, '\\n')\n",
    "\n",
    "sleep_df = data('sleepstudy')\n",
    "sleep_df.head()"
   ]
  },
  {
   "cell_type": "code",
   "execution_count": null,
   "id": "5d2ebda5",
   "metadata": {},
   "outputs": [],
   "source": [
    "print(sleep_df.Reaction, '\\n')\n",
    "sleep_df['Reaction']"
   ]
  },
  {
   "cell_type": "code",
   "execution_count": null,
   "id": "df249e50",
   "metadata": {},
   "outputs": [],
   "source": [
    "sleep_df[['Reaction']] # df"
   ]
  },
  {
   "cell_type": "markdown",
   "id": "f7e99176",
   "metadata": {},
   "source": [
    "Data types you will see in series and dataframes:\n",
    "\n",
    "- int: integer, whole number values\n",
    "- float: decimal numbers\n",
    "- bool: true or false values\n",
    "- object: strings\n",
    "- category: a fixed set of string values\n",
    "- a name, an optional human-friendly name for the series\n",
    "- inferring\n",
    "- using `<series>.astype()` to type cast"
   ]
  },
  {
   "cell_type": "markdown",
   "id": "41c520d9",
   "metadata": {},
   "source": [
    "*[Series Attributes](https://pandas.pydata.org/docs/reference/api/pandas.Series.html)*\n",
    "- `.index`, `.values`, `.dtype`, `.name`, `.size`, `.shape`\n",
    "\n",
    "*[Series Methods](https://pandas.pydata.org/docs/reference/api/pandas.Series.html)*\n",
    "- `.head/tail()`, `.sample()`, `.value_counts()`, descriptive stats, including `.describe()`, `.nsmallest/nlargest()`\n",
    "- `.sort_values/index()`"
   ]
  },
  {
   "cell_type": "markdown",
   "id": "9c8a0cc2",
   "metadata": {},
   "source": [
    "**Part 2**"
   ]
  },
  {
   "cell_type": "code",
   "execution_count": 24,
   "id": "58f437ca",
   "metadata": {
    "scrolled": true
   },
   "outputs": [
    {
     "name": "stdout",
     "output_type": "stream",
     "text": [
      "0     False\n",
      "1     False\n",
      "2     False\n",
      "3     False\n",
      "4      True\n",
      "5      True\n",
      "6     False\n",
      "7      True\n",
      "8      True\n",
      "9     False\n",
      "10     True\n",
      "dtype: bool \n",
      "\n",
      "0      True\n",
      "1      True\n",
      "2      True\n",
      "3      True\n",
      "4     False\n",
      "5     False\n",
      "6      True\n",
      "7     False\n",
      "8     False\n",
      "9      True\n",
      "10    False\n",
      "dtype: bool \n",
      "\n",
      "4     5\n",
      "5     9\n",
      "7     6\n",
      "8     5\n",
      "10    5\n",
      "dtype: int64\n"
     ]
    }
   ],
   "source": [
    "my_series = pd.Series([3, 1, 4, 1, 5, 9, 2, 6, 5, 3, 5])\n",
    "print(my_series >= 5, '\\n') # vector conditional operation\n",
    "print(~(my_series >= 5), '\\n') # inverts the boolean mask\n",
    "print(my_series[my_series >= 5]) # index using boolean sequence\n",
    "# can create compound operators seperated by parentheses and | or and"
   ]
  },
  {
   "cell_type": "markdown",
   "id": "d87d03fb",
   "metadata": {},
   "source": [
    "< Series >.describe() is a Series itself that can be indexed"
   ]
  },
  {
   "cell_type": "code",
   "execution_count": 25,
   "id": "0e72a17d",
   "metadata": {},
   "outputs": [
    {
     "name": "stdout",
     "output_type": "stream",
     "text": [
      "count    180.000000\n",
      "mean     298.507892\n",
      "std       56.328757\n",
      "min      194.332200\n",
      "25%      255.375825\n",
      "50%      288.650800\n",
      "75%      336.752075\n",
      "max      466.353500\n",
      "Name: Reaction, dtype: float64\n"
     ]
    },
    {
     "data": {
      "text/plain": [
       "336.752075"
      ]
     },
     "execution_count": 25,
     "metadata": {},
     "output_type": "execute_result"
    }
   ],
   "source": [
    "sleep_df = data('sleepstudy')\n",
    "sleep_reaction_time_series = sleep_df.Reaction\n",
    "print(sleep_reaction_time_series.describe()) # series\n",
    "sleep_reaction_time_series.describe()['75%']"
   ]
  },
  {
   "cell_type": "markdown",
   "id": "4a202c34",
   "metadata": {},
   "source": [
    "Can apply string methods to Series"
   ]
  },
  {
   "cell_type": "code",
   "execution_count": 26,
   "id": "0e38342e",
   "metadata": {},
   "outputs": [
    {
     "data": {
      "text/plain": [
       "0         adam\n",
       "1         adam\n",
       "2       andrew\n",
       "3       carina\n",
       "4    madeleine\n",
       "5        misty\n",
       "6     margaret\n",
       "dtype: object"
      ]
     },
     "execution_count": 26,
     "metadata": {},
     "output_type": "execute_result"
    }
   ],
   "source": [
    "ds_team_series = pd.Series(['Adam', 'Adam', 'Andrew', 'Carina',\n",
    "                            'Madeleine', 'Misty', 'Margaret'])\n",
    "ds_team_series.str.lower() \n"
   ]
  },
  {
   "cell_type": "code",
   "execution_count": 27,
   "id": "8781f26f",
   "metadata": {},
   "outputs": [
    {
     "data": {
      "text/plain": [
       "0      Adam\n",
       "1      Adam\n",
       "2    Andrew\n",
       "dtype: object"
      ]
     },
     "execution_count": 27,
     "metadata": {},
     "output_type": "execute_result"
    }
   ],
   "source": [
    "# can chain multiple string methods\n",
    "ds_team_series[ds_team_series.str.lower().str.startswith('a')]"
   ]
  },
  {
   "cell_type": "markdown",
   "id": "3f2f47f7",
   "metadata": {},
   "source": [
    "More Series Methods:\n",
    "- `.any()`: returns single boolean. Do any values in the series meet the condition?\n",
    "- `.all()`: returns single boolean. Do all values in the series meet the condition?\n",
    "- `.isin()`: Returns series of boolean values. Is each string in your series in the list of strings? \n",
    "- `.apply()`: apply a function to each item in a series."
   ]
  },
  {
   "cell_type": "markdown",
   "id": "dd7ea601",
   "metadata": {},
   "source": [
    "**Part 3**"
   ]
  },
  {
   "cell_type": "markdown",
   "id": "35221da8",
   "metadata": {},
   "source": [
    "-  `pd.cut(series, bins = n_bins/array_edges)` put numerical values into discrete bins"
   ]
  },
  {
   "cell_type": "code",
   "execution_count": 28,
   "id": "9a528f57",
   "metadata": {},
   "outputs": [
    {
     "data": {
      "text/plain": [
       "1       (194.06, 262.338]\n",
       "2       (194.06, 262.338]\n",
       "3       (194.06, 262.338]\n",
       "4      (262.338, 330.343]\n",
       "5      (330.343, 398.348]\n",
       "              ...        \n",
       "176    (262.338, 330.343]\n",
       "177    (330.343, 398.348]\n",
       "178    (330.343, 398.348]\n",
       "179    (330.343, 398.348]\n",
       "180    (330.343, 398.348]\n",
       "Name: Reaction, Length: 180, dtype: category\n",
       "Categories (4, interval[float64, right]): [(194.06, 262.338] < (262.338, 330.343] < (330.343, 398.348] < (398.348, 466.354]]"
      ]
     },
     "execution_count": 28,
     "metadata": {},
     "output_type": "execute_result"
    }
   ],
   "source": [
    "# create bins of equal intervals\n",
    "reaction_bins_series = pd.cut(sleep_reaction_time_series, 4)\n",
    "reaction_bins_series"
   ]
  },
  {
   "cell_type": "code",
   "execution_count": 29,
   "id": "739ab2f3",
   "metadata": {},
   "outputs": [
    {
     "data": {
      "text/plain": [
       "(262.338, 330.343]    75\n",
       "(194.06, 262.338]     53\n",
       "(330.343, 398.348]    44\n",
       "(398.348, 466.354]     8\n",
       "Name: Reaction, dtype: int64"
      ]
     },
     "execution_count": 29,
     "metadata": {},
     "output_type": "execute_result"
    }
   ],
   "source": [
    "reaction_bins_series.value_counts()"
   ]
  },
  {
   "cell_type": "markdown",
   "id": "9bc3872c",
   "metadata": {},
   "source": [
    "Can bin in `.value)counts(bins=n)`"
   ]
  },
  {
   "cell_type": "code",
   "execution_count": 30,
   "id": "4c82235f",
   "metadata": {},
   "outputs": [
    {
     "data": {
      "text/plain": [
       "(248.736, 303.141]    70\n",
       "(303.141, 357.545]    48\n",
       "(194.059, 248.736]    35\n",
       "(357.545, 411.949]    20\n",
       "(411.949, 466.354]     7\n",
       "Name: Reaction, dtype: int64"
      ]
     },
     "execution_count": 30,
     "metadata": {},
     "output_type": "execute_result"
    }
   ],
   "source": [
    "sleep_reaction_time_series.value_counts(bins = 5)"
   ]
  },
  {
   "cell_type": "markdown",
   "id": "2d68791f",
   "metadata": {},
   "source": [
    "- `.plot()` after a series to quickly plot and visualize.\n",
    "    - `.plot.hist()`\n",
    "        - `bins`: The number of bins to use in the histogram.\n",
    "        - `range`: range of values to use in histogram.\n",
    "        - `density`: Whether to normalize the histogram such that the area under the histogram sums to 1.\n",
    "        - `cumulative`: Whether to compute a cumulative histogram.\n",
    "        - `histtype`: histogram type. 'bar', 'barstacked', 'step', 'stepfilled'.\n",
    "        - `align`: bar alignment. 'left', 'mid', 'right'.\n",
    "        - `orientation`: histogram orientation. 'horizontal', 'vertical'.\n",
    "        - `color`: bar colors.\n",
    "        - `alpha`: bar transparency.\n",
    "        - `label`: label for the histogram in a legend.\n",
    "        - `stacked`: Whether to stack multiple histograms on top of each other.\n",
    "    - `.plot.bar()`\n",
    "        - parameters: `color`: bar color, `edgecolor`: bar edge color, `linewidth`: bar edge width, `width`: bar width, `alpha`: bar transparency, `grid`: grid display, `xlabel`, `ylabel`: x/y-axis labels, `title`: chart title"
   ]
  },
  {
   "cell_type": "markdown",
   "id": "eb1cb1ea",
   "metadata": {},
   "source": [
    "##### DataFrames"
   ]
  },
  {
   "cell_type": "code",
   "execution_count": 31,
   "id": "80533a1e",
   "metadata": {},
   "outputs": [
    {
     "data": {
      "text/html": [
       "<div>\n",
       "<style scoped>\n",
       "    .dataframe tbody tr th:only-of-type {\n",
       "        vertical-align: middle;\n",
       "    }\n",
       "\n",
       "    .dataframe tbody tr th {\n",
       "        vertical-align: top;\n",
       "    }\n",
       "\n",
       "    .dataframe thead th {\n",
       "        text-align: right;\n",
       "    }\n",
       "</style>\n",
       "<table border=\"1\" class=\"dataframe\">\n",
       "  <thead>\n",
       "    <tr style=\"text-align: right;\">\n",
       "      <th></th>\n",
       "      <th>name</th>\n",
       "      <th>math</th>\n",
       "      <th>english</th>\n",
       "      <th>reading</th>\n",
       "    </tr>\n",
       "  </thead>\n",
       "  <tbody>\n",
       "    <tr>\n",
       "      <th>0</th>\n",
       "      <td>Sally</td>\n",
       "      <td>62</td>\n",
       "      <td>85</td>\n",
       "      <td>80</td>\n",
       "    </tr>\n",
       "    <tr>\n",
       "      <th>1</th>\n",
       "      <td>Jane</td>\n",
       "      <td>88</td>\n",
       "      <td>79</td>\n",
       "      <td>67</td>\n",
       "    </tr>\n",
       "    <tr>\n",
       "      <th>2</th>\n",
       "      <td>Suzie</td>\n",
       "      <td>94</td>\n",
       "      <td>74</td>\n",
       "      <td>95</td>\n",
       "    </tr>\n",
       "    <tr>\n",
       "      <th>3</th>\n",
       "      <td>Billy</td>\n",
       "      <td>98</td>\n",
       "      <td>96</td>\n",
       "      <td>88</td>\n",
       "    </tr>\n",
       "    <tr>\n",
       "      <th>4</th>\n",
       "      <td>Ada</td>\n",
       "      <td>77</td>\n",
       "      <td>92</td>\n",
       "      <td>98</td>\n",
       "    </tr>\n",
       "    <tr>\n",
       "      <th>5</th>\n",
       "      <td>John</td>\n",
       "      <td>79</td>\n",
       "      <td>76</td>\n",
       "      <td>93</td>\n",
       "    </tr>\n",
       "    <tr>\n",
       "      <th>6</th>\n",
       "      <td>Thomas</td>\n",
       "      <td>82</td>\n",
       "      <td>64</td>\n",
       "      <td>81</td>\n",
       "    </tr>\n",
       "    <tr>\n",
       "      <th>7</th>\n",
       "      <td>Marie</td>\n",
       "      <td>93</td>\n",
       "      <td>63</td>\n",
       "      <td>90</td>\n",
       "    </tr>\n",
       "    <tr>\n",
       "      <th>8</th>\n",
       "      <td>Albert</td>\n",
       "      <td>92</td>\n",
       "      <td>62</td>\n",
       "      <td>87</td>\n",
       "    </tr>\n",
       "    <tr>\n",
       "      <th>9</th>\n",
       "      <td>Richard</td>\n",
       "      <td>69</td>\n",
       "      <td>80</td>\n",
       "      <td>94</td>\n",
       "    </tr>\n",
       "    <tr>\n",
       "      <th>10</th>\n",
       "      <td>Isaac</td>\n",
       "      <td>92</td>\n",
       "      <td>99</td>\n",
       "      <td>93</td>\n",
       "    </tr>\n",
       "    <tr>\n",
       "      <th>11</th>\n",
       "      <td>Alan</td>\n",
       "      <td>92</td>\n",
       "      <td>62</td>\n",
       "      <td>72</td>\n",
       "    </tr>\n",
       "  </tbody>\n",
       "</table>\n",
       "</div>"
      ],
      "text/plain": [
       "       name  math  english  reading\n",
       "0     Sally    62       85       80\n",
       "1      Jane    88       79       67\n",
       "2     Suzie    94       74       95\n",
       "3     Billy    98       96       88\n",
       "4       Ada    77       92       98\n",
       "5      John    79       76       93\n",
       "6    Thomas    82       64       81\n",
       "7     Marie    93       63       90\n",
       "8    Albert    92       62       87\n",
       "9   Richard    69       80       94\n",
       "10    Isaac    92       99       93\n",
       "11     Alan    92       62       72"
      ]
     },
     "execution_count": 31,
     "metadata": {},
     "output_type": "execute_result"
    }
   ],
   "source": [
    "np.random.seed(123)\n",
    "\n",
    "students = ['Sally', 'Jane', 'Suzie', 'Billy', 'Ada', 'John', 'Thomas',\n",
    "            'Marie', 'Albert', 'Richard', 'Isaac', 'Alan']\n",
    "\n",
    "# rand gen scores (arrays) for each student for each subject with 60-100 range\n",
    "# the arrays need to have the same length here\n",
    "math_grades = np.random.randint(low=60, high=100, size=len(students))\n",
    "english_grades = np.random.randint(low=60, high=100, size=len(students))\n",
    "reading_grades = np.random.randint(low=60, high=100, size=len(students))\n",
    "\n",
    "df = pd.DataFrame({'name': students,\n",
    "                   'math': math_grades,\n",
    "                   'english': english_grades,\n",
    "                   'reading': reading_grades})\n",
    "\n",
    "type(df)\n",
    "df"
   ]
  },
  {
   "cell_type": "markdown",
   "id": "3680fb08",
   "metadata": {},
   "source": [
    "Summarizing DFs:\n",
    "- `.info()`\n",
    "- `.describe()`\n",
    "- `.dtypes`\n",
    "- `.shape`\n",
    "- `.columns`\n",
    "- `.index`\n",
    "    - `df.columns = [col.upper() for col in df.columns]` example column name transformation\n",
    "- `df[['col1','col2']]`\n",
    "- `df.col1` to access single column as a series\n",
    "\n",
    "\n"
   ]
  },
  {
   "cell_type": "code",
   "execution_count": 32,
   "id": "c444cc8f",
   "metadata": {},
   "outputs": [
    {
     "data": {
      "text/html": [
       "<div>\n",
       "<style scoped>\n",
       "    .dataframe tbody tr th:only-of-type {\n",
       "        vertical-align: middle;\n",
       "    }\n",
       "\n",
       "    .dataframe tbody tr th {\n",
       "        vertical-align: top;\n",
       "    }\n",
       "\n",
       "    .dataframe thead th {\n",
       "        text-align: right;\n",
       "    }\n",
       "</style>\n",
       "<table border=\"1\" class=\"dataframe\">\n",
       "  <thead>\n",
       "    <tr style=\"text-align: right;\">\n",
       "      <th></th>\n",
       "      <th>name</th>\n",
       "      <th>math</th>\n",
       "      <th>english</th>\n",
       "      <th>reading</th>\n",
       "    </tr>\n",
       "  </thead>\n",
       "  <tbody>\n",
       "    <tr>\n",
       "      <th>0</th>\n",
       "      <td>Sally</td>\n",
       "      <td>62</td>\n",
       "      <td>85</td>\n",
       "      <td>80</td>\n",
       "    </tr>\n",
       "    <tr>\n",
       "      <th>4</th>\n",
       "      <td>Ada</td>\n",
       "      <td>77</td>\n",
       "      <td>92</td>\n",
       "      <td>98</td>\n",
       "    </tr>\n",
       "    <tr>\n",
       "      <th>5</th>\n",
       "      <td>John</td>\n",
       "      <td>79</td>\n",
       "      <td>76</td>\n",
       "      <td>93</td>\n",
       "    </tr>\n",
       "    <tr>\n",
       "      <th>9</th>\n",
       "      <td>Richard</td>\n",
       "      <td>69</td>\n",
       "      <td>80</td>\n",
       "      <td>94</td>\n",
       "    </tr>\n",
       "  </tbody>\n",
       "</table>\n",
       "</div>"
      ],
      "text/plain": [
       "      name  math  english  reading\n",
       "0    Sally    62       85       80\n",
       "4      Ada    77       92       98\n",
       "5     John    79       76       93\n",
       "9  Richard    69       80       94"
      ]
     },
     "execution_count": 32,
     "metadata": {},
     "output_type": "execute_result"
    }
   ],
   "source": [
    "df[df.math < 80]"
   ]
  },
  {
   "cell_type": "markdown",
   "id": "94998ecb",
   "metadata": {},
   "source": [
    "drop and rename columns"
   ]
  },
  {
   "cell_type": "code",
   "execution_count": 33,
   "id": "d31f6837",
   "metadata": {},
   "outputs": [
    {
     "data": {
      "text/html": [
       "<div>\n",
       "<style scoped>\n",
       "    .dataframe tbody tr th:only-of-type {\n",
       "        vertical-align: middle;\n",
       "    }\n",
       "\n",
       "    .dataframe tbody tr th {\n",
       "        vertical-align: top;\n",
       "    }\n",
       "\n",
       "    .dataframe thead th {\n",
       "        text-align: right;\n",
       "    }\n",
       "</style>\n",
       "<table border=\"1\" class=\"dataframe\">\n",
       "  <thead>\n",
       "    <tr style=\"text-align: right;\">\n",
       "      <th></th>\n",
       "      <th>name</th>\n",
       "      <th>math</th>\n",
       "    </tr>\n",
       "  </thead>\n",
       "  <tbody>\n",
       "    <tr>\n",
       "      <th>0</th>\n",
       "      <td>Sally</td>\n",
       "      <td>62</td>\n",
       "    </tr>\n",
       "    <tr>\n",
       "      <th>1</th>\n",
       "      <td>Jane</td>\n",
       "      <td>88</td>\n",
       "    </tr>\n",
       "    <tr>\n",
       "      <th>2</th>\n",
       "      <td>Suzie</td>\n",
       "      <td>94</td>\n",
       "    </tr>\n",
       "    <tr>\n",
       "      <th>3</th>\n",
       "      <td>Billy</td>\n",
       "      <td>98</td>\n",
       "    </tr>\n",
       "    <tr>\n",
       "      <th>4</th>\n",
       "      <td>Ada</td>\n",
       "      <td>77</td>\n",
       "    </tr>\n",
       "    <tr>\n",
       "      <th>5</th>\n",
       "      <td>John</td>\n",
       "      <td>79</td>\n",
       "    </tr>\n",
       "    <tr>\n",
       "      <th>6</th>\n",
       "      <td>Thomas</td>\n",
       "      <td>82</td>\n",
       "    </tr>\n",
       "    <tr>\n",
       "      <th>7</th>\n",
       "      <td>Marie</td>\n",
       "      <td>93</td>\n",
       "    </tr>\n",
       "    <tr>\n",
       "      <th>8</th>\n",
       "      <td>Albert</td>\n",
       "      <td>92</td>\n",
       "    </tr>\n",
       "    <tr>\n",
       "      <th>9</th>\n",
       "      <td>Richard</td>\n",
       "      <td>69</td>\n",
       "    </tr>\n",
       "    <tr>\n",
       "      <th>10</th>\n",
       "      <td>Isaac</td>\n",
       "      <td>92</td>\n",
       "    </tr>\n",
       "    <tr>\n",
       "      <th>11</th>\n",
       "      <td>Alan</td>\n",
       "      <td>92</td>\n",
       "    </tr>\n",
       "  </tbody>\n",
       "</table>\n",
       "</div>"
      ],
      "text/plain": [
       "       name  math\n",
       "0     Sally    62\n",
       "1      Jane    88\n",
       "2     Suzie    94\n",
       "3     Billy    98\n",
       "4       Ada    77\n",
       "5      John    79\n",
       "6    Thomas    82\n",
       "7     Marie    93\n",
       "8    Albert    92\n",
       "9   Richard    69\n",
       "10    Isaac    92\n",
       "11     Alan    92"
      ]
     },
     "execution_count": 33,
     "metadata": {},
     "output_type": "execute_result"
    }
   ],
   "source": [
    "df.drop(columns=['english', 'reading']) # df not updated"
   ]
  },
  {
   "cell_type": "code",
   "execution_count": 34,
   "id": "7e645777",
   "metadata": {
    "scrolled": true
   },
   "outputs": [
    {
     "data": {
      "text/html": [
       "<div>\n",
       "<style scoped>\n",
       "    .dataframe tbody tr th:only-of-type {\n",
       "        vertical-align: middle;\n",
       "    }\n",
       "\n",
       "    .dataframe tbody tr th {\n",
       "        vertical-align: top;\n",
       "    }\n",
       "\n",
       "    .dataframe thead th {\n",
       "        text-align: right;\n",
       "    }\n",
       "</style>\n",
       "<table border=\"1\" class=\"dataframe\">\n",
       "  <thead>\n",
       "    <tr style=\"text-align: right;\">\n",
       "      <th></th>\n",
       "      <th>student</th>\n",
       "      <th>math</th>\n",
       "      <th>english</th>\n",
       "      <th>reading</th>\n",
       "    </tr>\n",
       "  </thead>\n",
       "  <tbody>\n",
       "    <tr>\n",
       "      <th>0</th>\n",
       "      <td>Sally</td>\n",
       "      <td>62</td>\n",
       "      <td>85</td>\n",
       "      <td>80</td>\n",
       "    </tr>\n",
       "    <tr>\n",
       "      <th>1</th>\n",
       "      <td>Jane</td>\n",
       "      <td>88</td>\n",
       "      <td>79</td>\n",
       "      <td>67</td>\n",
       "    </tr>\n",
       "    <tr>\n",
       "      <th>2</th>\n",
       "      <td>Suzie</td>\n",
       "      <td>94</td>\n",
       "      <td>74</td>\n",
       "      <td>95</td>\n",
       "    </tr>\n",
       "    <tr>\n",
       "      <th>3</th>\n",
       "      <td>Billy</td>\n",
       "      <td>98</td>\n",
       "      <td>96</td>\n",
       "      <td>88</td>\n",
       "    </tr>\n",
       "    <tr>\n",
       "      <th>4</th>\n",
       "      <td>Ada</td>\n",
       "      <td>77</td>\n",
       "      <td>92</td>\n",
       "      <td>98</td>\n",
       "    </tr>\n",
       "    <tr>\n",
       "      <th>5</th>\n",
       "      <td>John</td>\n",
       "      <td>79</td>\n",
       "      <td>76</td>\n",
       "      <td>93</td>\n",
       "    </tr>\n",
       "    <tr>\n",
       "      <th>6</th>\n",
       "      <td>Thomas</td>\n",
       "      <td>82</td>\n",
       "      <td>64</td>\n",
       "      <td>81</td>\n",
       "    </tr>\n",
       "    <tr>\n",
       "      <th>7</th>\n",
       "      <td>Marie</td>\n",
       "      <td>93</td>\n",
       "      <td>63</td>\n",
       "      <td>90</td>\n",
       "    </tr>\n",
       "    <tr>\n",
       "      <th>8</th>\n",
       "      <td>Albert</td>\n",
       "      <td>92</td>\n",
       "      <td>62</td>\n",
       "      <td>87</td>\n",
       "    </tr>\n",
       "    <tr>\n",
       "      <th>9</th>\n",
       "      <td>Richard</td>\n",
       "      <td>69</td>\n",
       "      <td>80</td>\n",
       "      <td>94</td>\n",
       "    </tr>\n",
       "    <tr>\n",
       "      <th>10</th>\n",
       "      <td>Isaac</td>\n",
       "      <td>92</td>\n",
       "      <td>99</td>\n",
       "      <td>93</td>\n",
       "    </tr>\n",
       "    <tr>\n",
       "      <th>11</th>\n",
       "      <td>Alan</td>\n",
       "      <td>92</td>\n",
       "      <td>62</td>\n",
       "      <td>72</td>\n",
       "    </tr>\n",
       "  </tbody>\n",
       "</table>\n",
       "</div>"
      ],
      "text/plain": [
       "    student  math  english  reading\n",
       "0     Sally    62       85       80\n",
       "1      Jane    88       79       67\n",
       "2     Suzie    94       74       95\n",
       "3     Billy    98       96       88\n",
       "4       Ada    77       92       98\n",
       "5      John    79       76       93\n",
       "6    Thomas    82       64       81\n",
       "7     Marie    93       63       90\n",
       "8    Albert    92       62       87\n",
       "9   Richard    69       80       94\n",
       "10    Isaac    92       99       93\n",
       "11     Alan    92       62       72"
      ]
     },
     "execution_count": 34,
     "metadata": {},
     "output_type": "execute_result"
    }
   ],
   "source": [
    "df = df.rename(columns={'name': 'student'})\n",
    "df"
   ]
  },
  {
   "cell_type": "markdown",
   "id": "bf7bcb73",
   "metadata": {},
   "source": [
    "create column"
   ]
  },
  {
   "cell_type": "code",
   "execution_count": 37,
   "id": "d49bb44e",
   "metadata": {
    "scrolled": true
   },
   "outputs": [
    {
     "data": {
      "text/html": [
       "<div>\n",
       "<style scoped>\n",
       "    .dataframe tbody tr th:only-of-type {\n",
       "        vertical-align: middle;\n",
       "    }\n",
       "\n",
       "    .dataframe tbody tr th {\n",
       "        vertical-align: top;\n",
       "    }\n",
       "\n",
       "    .dataframe thead th {\n",
       "        text-align: right;\n",
       "    }\n",
       "</style>\n",
       "<table border=\"1\" class=\"dataframe\">\n",
       "  <thead>\n",
       "    <tr style=\"text-align: right;\">\n",
       "      <th></th>\n",
       "      <th>student</th>\n",
       "      <th>math</th>\n",
       "      <th>english</th>\n",
       "      <th>reading</th>\n",
       "      <th>passing_math</th>\n",
       "      <th>passing_english</th>\n",
       "    </tr>\n",
       "  </thead>\n",
       "  <tbody>\n",
       "    <tr>\n",
       "      <th>0</th>\n",
       "      <td>Sally</td>\n",
       "      <td>62</td>\n",
       "      <td>85</td>\n",
       "      <td>80</td>\n",
       "      <td>False</td>\n",
       "      <td>True</td>\n",
       "    </tr>\n",
       "    <tr>\n",
       "      <th>1</th>\n",
       "      <td>Jane</td>\n",
       "      <td>88</td>\n",
       "      <td>79</td>\n",
       "      <td>67</td>\n",
       "      <td>True</td>\n",
       "      <td>True</td>\n",
       "    </tr>\n",
       "    <tr>\n",
       "      <th>2</th>\n",
       "      <td>Suzie</td>\n",
       "      <td>94</td>\n",
       "      <td>74</td>\n",
       "      <td>95</td>\n",
       "      <td>True</td>\n",
       "      <td>True</td>\n",
       "    </tr>\n",
       "    <tr>\n",
       "      <th>3</th>\n",
       "      <td>Billy</td>\n",
       "      <td>98</td>\n",
       "      <td>96</td>\n",
       "      <td>88</td>\n",
       "      <td>True</td>\n",
       "      <td>True</td>\n",
       "    </tr>\n",
       "    <tr>\n",
       "      <th>4</th>\n",
       "      <td>Ada</td>\n",
       "      <td>77</td>\n",
       "      <td>92</td>\n",
       "      <td>98</td>\n",
       "      <td>True</td>\n",
       "      <td>True</td>\n",
       "    </tr>\n",
       "    <tr>\n",
       "      <th>5</th>\n",
       "      <td>John</td>\n",
       "      <td>79</td>\n",
       "      <td>76</td>\n",
       "      <td>93</td>\n",
       "      <td>True</td>\n",
       "      <td>True</td>\n",
       "    </tr>\n",
       "    <tr>\n",
       "      <th>6</th>\n",
       "      <td>Thomas</td>\n",
       "      <td>82</td>\n",
       "      <td>64</td>\n",
       "      <td>81</td>\n",
       "      <td>True</td>\n",
       "      <td>False</td>\n",
       "    </tr>\n",
       "    <tr>\n",
       "      <th>7</th>\n",
       "      <td>Marie</td>\n",
       "      <td>93</td>\n",
       "      <td>63</td>\n",
       "      <td>90</td>\n",
       "      <td>True</td>\n",
       "      <td>False</td>\n",
       "    </tr>\n",
       "    <tr>\n",
       "      <th>8</th>\n",
       "      <td>Albert</td>\n",
       "      <td>92</td>\n",
       "      <td>62</td>\n",
       "      <td>87</td>\n",
       "      <td>True</td>\n",
       "      <td>False</td>\n",
       "    </tr>\n",
       "    <tr>\n",
       "      <th>9</th>\n",
       "      <td>Richard</td>\n",
       "      <td>69</td>\n",
       "      <td>80</td>\n",
       "      <td>94</td>\n",
       "      <td>False</td>\n",
       "      <td>True</td>\n",
       "    </tr>\n",
       "    <tr>\n",
       "      <th>10</th>\n",
       "      <td>Isaac</td>\n",
       "      <td>92</td>\n",
       "      <td>99</td>\n",
       "      <td>93</td>\n",
       "      <td>True</td>\n",
       "      <td>True</td>\n",
       "    </tr>\n",
       "    <tr>\n",
       "      <th>11</th>\n",
       "      <td>Alan</td>\n",
       "      <td>92</td>\n",
       "      <td>62</td>\n",
       "      <td>72</td>\n",
       "      <td>True</td>\n",
       "      <td>False</td>\n",
       "    </tr>\n",
       "  </tbody>\n",
       "</table>\n",
       "</div>"
      ],
      "text/plain": [
       "    student  math  english  reading  passing_math  passing_english\n",
       "0     Sally    62       85       80         False             True\n",
       "1      Jane    88       79       67          True             True\n",
       "2     Suzie    94       74       95          True             True\n",
       "3     Billy    98       96       88          True             True\n",
       "4       Ada    77       92       98          True             True\n",
       "5      John    79       76       93          True             True\n",
       "6    Thomas    82       64       81          True            False\n",
       "7     Marie    93       63       90          True            False\n",
       "8    Albert    92       62       87          True            False\n",
       "9   Richard    69       80       94         False             True\n",
       "10    Isaac    92       99       93          True             True\n",
       "11     Alan    92       62       72          True            False"
      ]
     },
     "execution_count": 37,
     "metadata": {},
     "output_type": "execute_result"
    }
   ],
   "source": [
    "df['passing_math']  = df.math >= 70\n",
    "df = df.assign(passing_english=df.english >= 70)\n",
    "df"
   ]
  },
  {
   "cell_type": "markdown",
   "id": "5f9e6006",
   "metadata": {},
   "source": [
    "Sort by valued"
   ]
  },
  {
   "cell_type": "code",
   "execution_count": 38,
   "id": "451ee474",
   "metadata": {},
   "outputs": [
    {
     "data": {
      "text/html": [
       "<div>\n",
       "<style scoped>\n",
       "    .dataframe tbody tr th:only-of-type {\n",
       "        vertical-align: middle;\n",
       "    }\n",
       "\n",
       "    .dataframe tbody tr th {\n",
       "        vertical-align: top;\n",
       "    }\n",
       "\n",
       "    .dataframe thead th {\n",
       "        text-align: right;\n",
       "    }\n",
       "</style>\n",
       "<table border=\"1\" class=\"dataframe\">\n",
       "  <thead>\n",
       "    <tr style=\"text-align: right;\">\n",
       "      <th></th>\n",
       "      <th>student</th>\n",
       "      <th>math</th>\n",
       "      <th>english</th>\n",
       "      <th>reading</th>\n",
       "      <th>passing_math</th>\n",
       "      <th>passing_english</th>\n",
       "    </tr>\n",
       "  </thead>\n",
       "  <tbody>\n",
       "    <tr>\n",
       "      <th>10</th>\n",
       "      <td>Isaac</td>\n",
       "      <td>92</td>\n",
       "      <td>99</td>\n",
       "      <td>93</td>\n",
       "      <td>True</td>\n",
       "      <td>True</td>\n",
       "    </tr>\n",
       "    <tr>\n",
       "      <th>3</th>\n",
       "      <td>Billy</td>\n",
       "      <td>98</td>\n",
       "      <td>96</td>\n",
       "      <td>88</td>\n",
       "      <td>True</td>\n",
       "      <td>True</td>\n",
       "    </tr>\n",
       "    <tr>\n",
       "      <th>4</th>\n",
       "      <td>Ada</td>\n",
       "      <td>77</td>\n",
       "      <td>92</td>\n",
       "      <td>98</td>\n",
       "      <td>True</td>\n",
       "      <td>True</td>\n",
       "    </tr>\n",
       "    <tr>\n",
       "      <th>0</th>\n",
       "      <td>Sally</td>\n",
       "      <td>62</td>\n",
       "      <td>85</td>\n",
       "      <td>80</td>\n",
       "      <td>False</td>\n",
       "      <td>True</td>\n",
       "    </tr>\n",
       "    <tr>\n",
       "      <th>9</th>\n",
       "      <td>Richard</td>\n",
       "      <td>69</td>\n",
       "      <td>80</td>\n",
       "      <td>94</td>\n",
       "      <td>False</td>\n",
       "      <td>True</td>\n",
       "    </tr>\n",
       "    <tr>\n",
       "      <th>1</th>\n",
       "      <td>Jane</td>\n",
       "      <td>88</td>\n",
       "      <td>79</td>\n",
       "      <td>67</td>\n",
       "      <td>True</td>\n",
       "      <td>True</td>\n",
       "    </tr>\n",
       "    <tr>\n",
       "      <th>5</th>\n",
       "      <td>John</td>\n",
       "      <td>79</td>\n",
       "      <td>76</td>\n",
       "      <td>93</td>\n",
       "      <td>True</td>\n",
       "      <td>True</td>\n",
       "    </tr>\n",
       "    <tr>\n",
       "      <th>2</th>\n",
       "      <td>Suzie</td>\n",
       "      <td>94</td>\n",
       "      <td>74</td>\n",
       "      <td>95</td>\n",
       "      <td>True</td>\n",
       "      <td>True</td>\n",
       "    </tr>\n",
       "    <tr>\n",
       "      <th>6</th>\n",
       "      <td>Thomas</td>\n",
       "      <td>82</td>\n",
       "      <td>64</td>\n",
       "      <td>81</td>\n",
       "      <td>True</td>\n",
       "      <td>False</td>\n",
       "    </tr>\n",
       "    <tr>\n",
       "      <th>7</th>\n",
       "      <td>Marie</td>\n",
       "      <td>93</td>\n",
       "      <td>63</td>\n",
       "      <td>90</td>\n",
       "      <td>True</td>\n",
       "      <td>False</td>\n",
       "    </tr>\n",
       "    <tr>\n",
       "      <th>8</th>\n",
       "      <td>Albert</td>\n",
       "      <td>92</td>\n",
       "      <td>62</td>\n",
       "      <td>87</td>\n",
       "      <td>True</td>\n",
       "      <td>False</td>\n",
       "    </tr>\n",
       "    <tr>\n",
       "      <th>11</th>\n",
       "      <td>Alan</td>\n",
       "      <td>92</td>\n",
       "      <td>62</td>\n",
       "      <td>72</td>\n",
       "      <td>True</td>\n",
       "      <td>False</td>\n",
       "    </tr>\n",
       "  </tbody>\n",
       "</table>\n",
       "</div>"
      ],
      "text/plain": [
       "    student  math  english  reading  passing_math  passing_english\n",
       "10    Isaac    92       99       93          True             True\n",
       "3     Billy    98       96       88          True             True\n",
       "4       Ada    77       92       98          True             True\n",
       "0     Sally    62       85       80         False             True\n",
       "9   Richard    69       80       94         False             True\n",
       "1      Jane    88       79       67          True             True\n",
       "5      John    79       76       93          True             True\n",
       "2     Suzie    94       74       95          True             True\n",
       "6    Thomas    82       64       81          True            False\n",
       "7     Marie    93       63       90          True            False\n",
       "8    Albert    92       62       87          True            False\n",
       "11     Alan    92       62       72          True            False"
      ]
     },
     "execution_count": 38,
     "metadata": {},
     "output_type": "execute_result"
    }
   ],
   "source": [
    "df.sort_values(by='english', ascending=False)"
   ]
  },
  {
   "cell_type": "markdown",
   "id": "1fba1f45",
   "metadata": {},
   "source": [
    "### [matplotlib](https://matplotlib.org/stable/index.html)\n",
    "\n"
   ]
  },
  {
   "cell_type": "markdown",
   "id": "6382b053",
   "metadata": {},
   "source": [
    "### [seaborn](https://seaborn.pydata.org/api.html)"
   ]
  },
  {
   "cell_type": "code",
   "execution_count": null,
   "id": "0638a8ab",
   "metadata": {},
   "outputs": [],
   "source": []
  }
 ],
 "metadata": {
  "kernelspec": {
   "display_name": "Python 3 (ipykernel)",
   "language": "python",
   "name": "python3"
  },
  "language_info": {
   "codemirror_mode": {
    "name": "ipython",
    "version": 3
   },
   "file_extension": ".py",
   "mimetype": "text/x-python",
   "name": "python",
   "nbconvert_exporter": "python",
   "pygments_lexer": "ipython3",
   "version": "3.10.9"
  },
  "varInspector": {
   "cols": {
    "lenName": 16,
    "lenType": 16,
    "lenVar": 40
   },
   "kernels_config": {
    "python": {
     "delete_cmd_postfix": "",
     "delete_cmd_prefix": "del ",
     "library": "var_list.py",
     "varRefreshCmd": "print(var_dic_list())"
    },
    "r": {
     "delete_cmd_postfix": ") ",
     "delete_cmd_prefix": "rm(",
     "library": "var_list.r",
     "varRefreshCmd": "cat(var_dic_list()) "
    }
   },
   "types_to_exclude": [
    "module",
    "function",
    "builtin_function_or_method",
    "instance",
    "_Feature"
   ],
   "window_display": false
  }
 },
 "nbformat": 4,
 "nbformat_minor": 5
}
